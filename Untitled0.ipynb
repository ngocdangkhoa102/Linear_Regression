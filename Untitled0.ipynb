{
  "nbformat": 4,
  "nbformat_minor": 0,
  "metadata": {
    "colab": {
      "name": "Untitled0.ipynb",
      "provenance": [],
      "include_colab_link": true
    },
    "kernelspec": {
      "name": "python3",
      "display_name": "Python 3"
    },
    "accelerator": "GPU"
  },
  "cells": [
    {
      "cell_type": "markdown",
      "metadata": {
        "id": "view-in-github",
        "colab_type": "text"
      },
      "source": [
        "<a href=\"https://colab.research.google.com/github/ngocdangkhoa102/Linear_Regression/blob/master/Untitled0.ipynb\" target=\"_parent\"><img src=\"https://colab.research.google.com/assets/colab-badge.svg\" alt=\"Open In Colab\"/></a>"
      ]
    },
    {
      "cell_type": "code",
      "metadata": {
        "id": "uQYBEZEGqk6g",
        "colab_type": "code",
        "colab": {}
      },
      "source": [
        "import numpy as np\n",
        "import pandas as pd\n",
        "from sklearn.datasets import make_regression\n",
        "\n",
        "X, y = make_regression(n_samples = 99, n_features = 1, noise = 0.1)\n"
      ],
      "execution_count": 0,
      "outputs": []
    },
    {
      "cell_type": "code",
      "metadata": {
        "id": "yX_vhmxqwaWG",
        "colab_type": "code",
        "outputId": "501d2648-35cd-498c-c15f-bf113c85e483",
        "colab": {
          "base_uri": "https://localhost:8080/",
          "height": 283
        }
      },
      "source": [
        "from matplotlib import pyplot as plt\n",
        "plt.scatter(X,y)"
      ],
      "execution_count": 0,
      "outputs": [
        {
          "output_type": "execute_result",
          "data": {
            "text/plain": [
              "<matplotlib.collections.PathCollection at 0x7f88ae089400>"
            ]
          },
          "metadata": {
            "tags": []
          },
          "execution_count": 131
        },
        {
          "output_type": "display_data",
          "data": {
            "image/png": "[encoded data removed]",
            "text/plain": [
              "<Figure size 432x288 with 1 Axes>"
            ]
          },
          "metadata": {
            "tags": []
          }
        }
      ]
    },
    {
      "cell_type": "code",
      "metadata": {
        "id": "YGDPycOCyE5G",
        "colab_type": "code",
        "colab": {}
      },
      "source": [
        "N = X.shape[0]\n",
        "x = np.hstack((np.ones((N,1)),X))\n",
        "y_dot = y.reshape((-1,1),order = 'C')\n",
        "w = np.array([0.,1.]).reshape(-1,1)\n",
        "learning_rate = 0.005\n",
        "numberOfIteration = 500\n",
        "cost = np.zeros((numberOfIteration,1))\n"
      ],
      "execution_count": 0,
      "outputs": []
    },
    {
      "cell_type": "code",
      "metadata": {
        "id": "-aRNW4GYzAwA",
        "colab_type": "code",
        "colab": {}
      },
      "source": [
        "for index in range(1,numberOfIteration):\n",
        "  r = np.dot(x,w) - y_dot\n",
        "  cost[index] = 0.5 * np.sum(r*r)\n",
        "  w[0] -= learning_rate* np.sum(r)\n",
        "  w[1] -= learning_rate* np.sum(np.multiply(X,r))\n"
      ],
      "execution_count": 0,
      "outputs": []
    },
    {
      "cell_type": "code",
      "metadata": {
        "id": "SF_5F_SK83py",
        "colab_type": "code",
        "outputId": "b64be3da-9ef0-48a6-9b84-3c1bf9acde52",
        "colab": {
          "base_uri": "https://localhost:8080/",
          "height": 265
        }
      },
      "source": [
        "listOfArray = []\n",
        "for index in range(1,numberOfIteration):\n",
        "  listOfArray.extend(cost[index])\n",
        "plt.plot(listOfArray,range(1,numberOfIteration),'g')\n",
        "plt.show()"
      ],
      "execution_count": 0,
      "outputs": [
        {
          "output_type": "display_data",
          "data": {
            "image/png": "[encoded data removed]",
            "text/plain": [
              "<Figure size 432x288 with 1 Axes>"
            ]
          },
          "metadata": {
            "tags": []
          }
        }
      ]
    },
    {
      "cell_type": "code",
      "metadata": {
        "id": "etNaADRpEfPK",
        "colab_type": "code",
        "outputId": "d216985d-24dd-4292-a390-6e8bcb3d3655",
        "colab": {
          "base_uri": "https://localhost:8080/",
          "height": 266
        }
      },
      "source": [
        "y = np.dot(x,w)\n",
        "plt.plot((X[0],X[N-1]),(y[0],y[N-2]),'g')\n",
        "plt.show()"
      ],
      "execution_count": 0,
      "outputs": [
        {
          "output_type": "display_data",
          "data": {
            "image/png": "[encoded data removed]",
            "text/plain": [
              "<Figure size 432x288 with 1 Axes>"
            ]
          },
          "metadata": {
            "tags": []
          }
        }
      ]
    },
    {
      "cell_type": "code",
      "metadata": {
        "id": "FtMttl1kGKtP",
        "colab_type": "code",
        "outputId": "98f5dd97-1d76-484c-9e50-0beb089f2b8a",
        "colab": {
          "base_uri": "https://localhost:8080/",
          "height": 35
        }
      },
      "source": [
        "X1 = 50 \n",
        "x1 = np.hstack((1,X1))\n",
        "print (np.dot(x1,w))"
      ],
      "execution_count": 0,
      "outputs": [
        {
          "output_type": "stream",
          "text": [
            "[168.88802265]\n"
          ],
          "name": "stdout"
        }
      ]
    }
  ]
}